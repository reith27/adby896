{
 "cells": [
  {
   "cell_type": "markdown",
   "metadata": {},
   "source": [
    "# Tutorial 2 (Introduction to AI), Part 2"
   ]
  },
  {
   "cell_type": "markdown",
   "metadata": {},
   "source": [
    "# Exploring classification with Decision Trees "
   ]
  },
  {
   "cell_type": "markdown",
   "metadata": {},
   "source": [
    "In the second part of tutorial 2 we again study **Classification**.  This time working with problem with more than two classes, the iris dataset (3-way classification).  "
   ]
  },
  {
   "cell_type": "markdown",
   "metadata": {},
   "source": [
    "##  1. Decision Trees"
   ]
  },
  {
   "cell_type": "markdown",
   "metadata": {},
   "source": [
    "In this part of tutorial 2 we will look at decision trees: trees that can be used as algorithms to automate decision making.  Decision trees are considered human-readable.  As such, they are compatible with human driven processes such as governance, ethics, law, and audits.  Many AI models are based on models that aren't easily human-readable, hence are difficult to interpret. \n",
    "\n",
    "Decision trees are one of the simplest methods for supervised learning. They can be applied for both regression and classification.\n",
    "\n",
    "At each node of a tree, a test is applied which sends the query sample down one of the branches of the node. This continues until the query sample arrives at a terminal or leaf node. Each leaf node is associated with a value: a class label in classification, or a numeric value in regression. The value of the leaf node reached by the query sample is returned as the output of the tree.\n",
    "\n",
    "### Decision Trees using sklearn\n",
    "\n",
    "There is a very powerful decision tree classification model implemented in sklearn:\n",
    "\n",
    "https://scikit-learn.org/stable/modules/generated/sklearn.tree.DecisionTreeClassifier.html. \n",
    "\n",
    "With this we can cleanly implement decision trees in just a few lines of code. The steps to use the sklearn classification decision tree follow the principal sklearn API which are:\n",
    "\n",
    "- Choose the model you want to use --> the DecisionTreeClassifier\n",
    "- Set the model hyperparameters --> E.g. number of minimum samples per leaf\n",
    "- Identify a feature dataset as well as a target array containing the labels for the instances\n",
    "- Fit the model to the training data \n",
    "- Use the fitted model on unseen data."
   ]
  },
  {
   "cell_type": "markdown",
   "metadata": {},
   "source": [
    "### Iris Dataset\n",
    "\n",
    "Here we will work with the iris dataset.  The dataset contains 150 samples, with features being measurements of various aspects of the flowers.  There are three types of iris, so the problem of assigning a type of iris is a 3-way classification problem. \n",
    "\n",
    "The code below imports the libraries we need, loads the dataset and prints some values so we can see what it looks like.      "
   ]
  },
  {
   "cell_type": "code",
   "execution_count": 6,
   "metadata": {},
   "outputs": [
    {
     "name": "stdout",
     "output_type": "stream",
     "text": [
      "(150, 4)\n",
      "(150,)\n",
      "[[5.1 3.5 1.4 0.2]\n",
      " [4.9 3.  1.4 0.2]\n",
      " [4.7 3.2 1.3 0.2]\n",
      " [4.6 3.1 1.5 0.2]\n",
      " [5.  3.6 1.4 0.2]]\n",
      "[0 0 0 0 0]\n",
      "[2 2 2 2 2]\n",
      "['sepal length (cm)', 'sepal width (cm)', 'petal length (cm)', 'petal width (cm)']\n"
     ]
    }
   ],
   "source": [
    "import os\n",
    "import pandas as pd\n",
    "import numpy as np\n",
    "\n",
    "from sklearn import datasets\n",
    "from sklearn.model_selection import KFold\n",
    "from sklearn.preprocessing import StandardScaler\n",
    "from sklearn.tree import DecisionTreeClassifier\n",
    "from sklearn.model_selection import train_test_split\n",
    "from sklearn.metrics import accuracy_score\n",
    "from sklearn.metrics import confusion_matrix\n",
    "import matplotlib.pyplot as plt\n",
    "\n",
    "#load iris dataset from sklearn\n",
    "iris = datasets.load_iris()\n",
    "\n",
    "#print(iris.target[:5])\n",
    "#print(iris.data[:5])\n",
    "\n",
    "#print(iris.feature_names)\n",
    "\n",
    "#load iris dataset from sklearn\n",
    "iris = datasets.load_iris()\n",
    "\n",
    "\n",
    "\n",
    "X = iris.data\n",
    "y = iris.target\n",
    "variety = iris.target_names\n",
    "\n",
    "print(X.shape)\n",
    "print(y.shape)\n",
    "\n",
    "print(X[:5])\n",
    "print(y[:5])\n",
    "print(y[145:150])\n",
    "\n",
    "print(iris.feature_names)"
   ]
  },
  {
   "cell_type": "markdown",
   "metadata": {},
   "source": [
    "Next, the data is split  into training and testing data."
   ]
  },
  {
   "cell_type": "code",
   "execution_count": 7,
   "metadata": {},
   "outputs": [
    {
     "name": "stdout",
     "output_type": "stream",
     "text": [
      "(112, 4)\n",
      "(38, 4)\n",
      "(112,)\n",
      "(38,)\n"
     ]
    }
   ],
   "source": [
    "X_train, X_test, y_train, y_test = train_test_split(X, y, test_size=0.25, random_state=42)\n",
    "\n",
    "print(X_train.shape)\n",
    "print(X_test.shape)\n",
    "print(y_train.shape)\n",
    "print(y_test.shape)"
   ]
  },
  {
   "cell_type": "markdown",
   "metadata": {},
   "source": [
    "The key part of the process is below, here the model is created with appropriate hyperparameter settings.  The model is that trained with the **fit()** method, supplied with the training data."
   ]
  },
  {
   "cell_type": "code",
   "execution_count": 8,
   "metadata": {},
   "outputs": [
    {
     "data": {
      "text/plain": [
       "DecisionTreeClassifier(criterion='entropy')"
      ]
     },
     "execution_count": 8,
     "metadata": {},
     "output_type": "execute_result"
    }
   ],
   "source": [
    "decision_tree = DecisionTreeClassifier(criterion = 'entropy')\n",
    "\n",
    "decision_tree.fit(X_train,y_train)"
   ]
  },
  {
   "cell_type": "markdown",
   "metadata": {},
   "source": [
    "Finally the trained model is evaluated using the testing data.  Below, prediction of the label for the testing data are made (and some values printed for illustration).  Then the accuracy is calculated, and we plot a confusion matrix both as raw numbers and as a figure."
   ]
  },
  {
   "cell_type": "code",
   "execution_count": 9,
   "metadata": {},
   "outputs": [
    {
     "name": "stdout",
     "output_type": "stream",
     "text": [
      "Accuracy: 0.97\n",
      "[[15  0  0]\n",
      " [ 0 11  0]\n",
      " [ 0  1 11]]\n"
     ]
    },
    {
     "data": {
      "image/png": "[encoded data removed]",
      "text/plain": [
       "<Figure size 432x288 with 2 Axes>"
      ]
     },
     "metadata": {
      "needs_background": "light"
     },
     "output_type": "display_data"
    }
   ],
   "source": [
    "y_pred = decision_tree.predict(X_test)\n",
    "\n",
    "accuracy = accuracy_score(y_test, y_pred)\n",
    "\n",
    "print('Accuracy: %.2f' % accuracy)\n",
    "\n",
    "def plot_confusion_matrix(cm, names, title='Confusion matrix', cmap=plt.cm.Blues):\n",
    "    plt.imshow(cm, interpolation='nearest', cmap=cmap)\n",
    "    plt.title(title)\n",
    "    plt.colorbar(fraction=0.05)\n",
    "    tick_marks = np.arange(len(names))\n",
    "    plt.xticks(tick_marks, names, rotation=45)\n",
    "    plt.yticks(tick_marks, names)\n",
    "    plt.tight_layout()\n",
    "    plt.ylabel('True label')\n",
    "    plt.xlabel('Predicted label')\n",
    "    \n",
    "cm = confusion_matrix(y_test, y_pred)\n",
    "\n",
    "print(cm)\n",
    "\n",
    "plt.figure()\n",
    "plot_confusion_matrix(cm, variety, title='')"
   ]
  },
  {
   "cell_type": "markdown",
   "metadata": {},
   "source": [
    "Or we could use the builtin method."
   ]
  },
  {
   "cell_type": "code",
   "execution_count": 11,
   "metadata": {},
   "outputs": [
    {
     "data": {
      "image/png": "[encoded data removed]",
      "text/plain": [
       "<Figure size 432x288 with 2 Axes>"
      ]
     },
     "metadata": {
      "needs_background": "light"
     },
     "output_type": "display_data"
    }
   ],
   "source": [
    "from sklearn.metrics import ConfusionMatrixDisplay\n",
    "\n",
    "disp = ConfusionMatrixDisplay(confusion_matrix=cm, display_labels=variety)\n",
    "disp.plot()\n",
    "plt.show()\n"
   ]
  },
  {
   "cell_type": "markdown",
   "metadata": {},
   "source": [
    "## 2. K-Fold Cross Validation\n",
    "\n",
    "There are several types of cross validation; however, K-fold is the most common.  The value K specifies the number of folds.  The two most common values for K are either 5 or 10.  For this session we will use a K value of 5, or a 5-fold cross validation.\n",
    "\n",
    "https://scikit-learn.org/stable/modules/generated/sklearn.model_selection.KFold.html\n",
    "\n",
    "First, the data are split into 5 equal (or close to, due to rounding) folds.  These folds are used to generate 5 training/validation set combinations.  Each of the folds becomes the validation set once, and the remaining folds become the training sets.  This allows the validated results to be appended together to produce a final out-of-sample prediction for the entire dataset.  \n",
    "\n",
    "The following code demonstrates a 5-fold cross validation, using the decision tree model above:"
   ]
  },
  {
   "cell_type": "code",
   "execution_count": 12,
   "metadata": {},
   "outputs": [
    {
     "name": "stdout",
     "output_type": "stream",
     "text": [
      "Fold #1, Training Size: 120, Validation Size: 30\n",
      "Accuracy: 0.97\n",
      "Fold #2, Training Size: 120, Validation Size: 30\n",
      "Accuracy: 0.90\n",
      "Fold #3, Training Size: 120, Validation Size: 30\n",
      "Accuracy: 0.93\n",
      "Fold #4, Training Size: 120, Validation Size: 30\n",
      "Accuracy: 1.00\n",
      "Fold #5, Training Size: 120, Validation Size: 30\n",
      "Accuracy: 0.97\n"
     ]
    }
   ],
   "source": [
    "# Use 5-fold split\n",
    "kf = KFold(5,shuffle=True)\n",
    "\n",
    "fold = 1\n",
    "# The data is split five ways, for each fold, the \n",
    "# Perceptron is trained, tested and evaluated for accuracy\n",
    "for train_index, validate_index in kf.split(X,y):\n",
    "    decision_tree.fit(X[train_index],y[train_index])\n",
    "    y_test = y[validate_index]\n",
    "    y_pred = decision_tree.predict(X[validate_index])\n",
    "    #print(y_test)\n",
    "    #print(y_pred)\n",
    "    #print(f\"Fold #{fold}, Training Size: {len(trainDF)}, Validation Size: {len(validateDF)}\")\n",
    "    print(f\"Fold #{fold}, Training Size: {len(X[train_index])}, Validation Size: {len(X[validate_index])}\")\n",
    "    print('Accuracy: %.2f' % accuracy_score(y_test, y_pred))\n",
    "    fold += 1"
   ]
  },
  {
   "cell_type": "markdown",
   "metadata": {},
   "source": [
    "You might then present each of these results as a confusion matrix.\n",
    "\n",
    "Note that different fold might give different results, and that in the code above, as no fixed random state is given, different runs might also give different results."
   ]
  },
  {
   "cell_type": "markdown",
   "metadata": {},
   "source": [
    "## Exercise\n",
    "\n",
    "1. Another classic classification dataset that comes with Scikit-Learn is the wine dataset.  You can read a summary of it here https://scikit-learn.org/stable/modules/generated/sklearn.datasets.load_wine.html.  The dataset can be accessed with datasets.load_wine().\n",
    "\n",
    "Use Spyder to write code that will:\n",
    "- load this dataset\n",
    "- build decision tree classifier(s) for it\n",
    "- you will need to split the data (try out both train_test_split and k-Fold cross validation)\n",
    "- you should assess how well the classifier(s) perform\n",
    "- you should produce a confusion matrix illustrating this performance\n",
    "\n",
    "\n",
    "2. Apply the perceptron model to the iris dataset, both with and without a Standard scaler."
   ]
  },
  {
   "cell_type": "code",
   "execution_count": null,
   "metadata": {},
   "outputs": [],
   "source": []
  }
 ],
 "metadata": {
  "kernelspec": {
   "display_name": "Python 3 (ipykernel)",
   "language": "python",
   "name": "python3"
  },
  "language_info": {
   "codemirror_mode": {
    "name": "ipython",
    "version": 3
   },
   "file_extension": ".py",
   "mimetype": "text/x-python",
   "name": "python",
   "nbconvert_exporter": "python",
   "pygments_lexer": "ipython3",
   "version": "3.9.12"
  }
 },
 "nbformat": 4,
 "nbformat_minor": 2
}
