{
 "cells": [
  {
   "cell_type": "markdown",
   "metadata": {},
   "source": [
    "# Tutorial 2 (Introduction to AI), Part 2\n",
    "\n",
    "# Classification in AI"
   ]
  },
  {
   "cell_type": "markdown",
   "metadata": {},
   "source": [
    "# Scikit-Learn: efficient tools for data analysis"
   ]
  },
  {
   "cell_type": "markdown",
   "metadata": {},
   "source": [
    "Scikit-learn provides a range of supervised and unsupervised learning algorithms, and associating tools, via a consistent interface in Python.\n",
    "\n",
    "It is licensed under a permissive simplified BSD license and is distributed under many Linux distributions, encouraging academic and commercial use.\n",
    "\n",
    "The library is built upon the SciPy (Scientific Python) that must be installed before you can use scikit-learn. This stack that includes:\n",
    "\n",
    "- **NumPy**: Base n-dimensional array package\n",
    "- **SciPy**: Fundamental library for scientific computing\n",
    "- **Matplotlib**: Comprehensive 2D/3D plotting\n",
    "- **IPython**: Enhanced interactive console\n",
    "- **Sympy**: Symbolic mathematics\n",
    "- **Pandas**: Data structures and analysis\n",
    "\n",
    "Extensions or modules for SciPy care conventionally named SciKits. As such, the module provides learning algorithms and is named scikit-learn.\n",
    "\n",
    "The library is focused on modelling data. It is not focused on loading, manipulating and summarizing data. For these features, refer to **NumPy** and **Pandas**.\n",
    "\n",
    "Some popular groups of models provided by scikit-learn include:\n",
    "\n",
    "- **Datasets**: for toy and real datasets and for generating datasets with specific properties for investigating model behaviour.\n",
    "- **Supervised Models**: a vast array not limited to perceptron, decision trees, naive bayes, neural networks, support vector machines.\n",
    "- **performance metrics** methods to measure how well a model is working\n",
    "- **Training splits** and **Cross Validation**: for estimating the performance of supervised models on unseen data.\n",
    "- **Clustering**: for grouping unlabeled data such as KMeans.\n",
    "- **Dimensionality Reduction**: for reducing the number of attributes in data for summarization, visualization and feature selection such as Principal Component Analysis.\n",
    "- **Ensemble methods**: for combining the predictions of multiple supervised models.\n",
    "- **Feature extraction**: for defining attributes in image and text data.\n",
    "- **Feature selection**: for identifying meaningful attributes from which to create supervised models.\n",
    "- **Parameter Tuning**: for getting the most out of supervised models."
   ]
  },
  {
   "cell_type": "markdown",
   "metadata": {},
   "source": [
    "# Installing scikit-learn"
   ]
  },
  {
   "cell_type": "markdown",
   "metadata": {},
   "source": [
    "Scikit-learn is almost certainly already part of your Acaconda distribution.\n",
    "\n",
    "Scikit-learn requires:\n",
    "\n",
    "- Python (>= 3.4)\n",
    "- NumPy (>= 1.8.2)\n",
    "- SciPy (>= 0.13.3)"
   ]
  },
  {
   "cell_type": "markdown",
   "metadata": {},
   "source": [
    "If it isn't and if you already have a working installation of numpy and scipy, the easiest way to install scikit-learn is using **pip**\n",
    "\n",
    "- pip install -U scikit-learn\n",
    "\n",
    "or **conda**:\n",
    "\n",
    "- conda install scikit-learn"
   ]
  },
  {
   "cell_type": "markdown",
   "metadata": {},
   "source": [
    "## 1. Datasets\n",
    "\n",
    "Scikit-learn comes with a collection of datasets.  Some of these are small, and some are larger.  We will be working with these a lot. \n",
    "\n",
    "We need to import these datasets from scikit-learn.  They come as structured data, a dictionary-like object, with attributes including **data**, **target**, **feature_names**, **target_names**\n",
    "\n",
    "https://scikit-learn.org/stable/datasets.html\n",
    "\n",
    "In this first example we will work with the Wisconsin breast cancer dataset."
   ]
  },
  {
   "cell_type": "code",
   "execution_count": 2,
   "metadata": {},
   "outputs": [
    {
     "name": "stdout",
     "output_type": "stream",
     "text": [
      "(569, 30)\n",
      "(569,)\n"
     ]
    }
   ],
   "source": [
    "import pandas as pd\n",
    "import numpy as np\n",
    "\n",
    "from sklearn import datasets\n",
    "cancer = datasets.load_breast_cancer()\n",
    "\n",
    "#get data (often called X) and target (often called y) \n",
    "X = cancer.data\n",
    "y = cancer.target\n",
    "#X and y are numpy arrays.  These have a shape attribute, telling\n",
    "#you the dimension of the array. Let's display their shape\n",
    "print(X.shape)\n",
    "print(y.shape)"
   ]
  },
  {
   "cell_type": "markdown",
   "metadata": {},
   "source": [
    "That is, X is a 569 x 30 array (569 rows of data, with 30 attributes), and y is a single column of 569 labels."
   ]
  },
  {
   "cell_type": "markdown",
   "metadata": {},
   "source": [
    "## 2. Representation of data\n",
    "\n",
    "The best way to think about data within Scikit-Learn is in terms of tables of data.\n",
    "\n",
    "#### Data as table\n",
    "\n",
    "A basic table is a two-dimensional grid of data, in which the rows represent individual elements of the dataset, and the columns represent quantities related to each of these elements. \n",
    "\n",
    "Here, we take the data loaded from scikit-learn and place it into a pandas DataFrame, then display the first five rows (the head). "
   ]
  },
  {
   "cell_type": "code",
   "execution_count": 7,
   "metadata": {},
   "outputs": [
    {
     "data": {
      "text/html": [
       "<div>\n",
       "<style scoped>\n",
       "    .dataframe tbody tr th:only-of-type {\n",
       "        vertical-align: middle;\n",
       "    }\n",
       "\n",
       "    .dataframe tbody tr th {\n",
       "        vertical-align: top;\n",
       "    }\n",
       "\n",
       "    .dataframe thead th {\n",
       "        text-align: right;\n",
       "    }\n",
       "</style>\n",
       "<table border=\"1\" class=\"dataframe\">\n",
       "  <thead>\n",
       "    <tr style=\"text-align: right;\">\n",
       "      <th></th>\n",
       "      <th>mean radius</th>\n",
       "      <th>mean texture</th>\n",
       "      <th>mean perimeter</th>\n",
       "      <th>mean area</th>\n",
       "      <th>mean smoothness</th>\n",
       "      <th>mean compactness</th>\n",
       "      <th>mean concavity</th>\n",
       "      <th>mean concave points</th>\n",
       "      <th>mean symmetry</th>\n",
       "      <th>mean fractal dimension</th>\n",
       "      <th>...</th>\n",
       "      <th>worst texture</th>\n",
       "      <th>worst perimeter</th>\n",
       "      <th>worst area</th>\n",
       "      <th>worst smoothness</th>\n",
       "      <th>worst compactness</th>\n",
       "      <th>worst concavity</th>\n",
       "      <th>worst concave points</th>\n",
       "      <th>worst symmetry</th>\n",
       "      <th>worst fractal dimension</th>\n",
       "      <th>target</th>\n",
       "    </tr>\n",
       "  </thead>\n",
       "  <tbody>\n",
       "    <tr>\n",
       "      <th>0</th>\n",
       "      <td>17.99</td>\n",
       "      <td>10.38</td>\n",
       "      <td>122.80</td>\n",
       "      <td>1001.0</td>\n",
       "      <td>0.11840</td>\n",
       "      <td>0.27760</td>\n",
       "      <td>0.3001</td>\n",
       "      <td>0.14710</td>\n",
       "      <td>0.2419</td>\n",
       "      <td>0.07871</td>\n",
       "      <td>...</td>\n",
       "      <td>17.33</td>\n",
       "      <td>184.60</td>\n",
       "      <td>2019.0</td>\n",
       "      <td>0.1622</td>\n",
       "      <td>0.6656</td>\n",
       "      <td>0.7119</td>\n",
       "      <td>0.2654</td>\n",
       "      <td>0.4601</td>\n",
       "      <td>0.11890</td>\n",
       "      <td>0.0</td>\n",
       "    </tr>\n",
       "    <tr>\n",
       "      <th>1</th>\n",
       "      <td>20.57</td>\n",
       "      <td>17.77</td>\n",
       "      <td>132.90</td>\n",
       "      <td>1326.0</td>\n",
       "      <td>0.08474</td>\n",
       "      <td>0.07864</td>\n",
       "      <td>0.0869</td>\n",
       "      <td>0.07017</td>\n",
       "      <td>0.1812</td>\n",
       "      <td>0.05667</td>\n",
       "      <td>...</td>\n",
       "      <td>23.41</td>\n",
       "      <td>158.80</td>\n",
       "      <td>1956.0</td>\n",
       "      <td>0.1238</td>\n",
       "      <td>0.1866</td>\n",
       "      <td>0.2416</td>\n",
       "      <td>0.1860</td>\n",
       "      <td>0.2750</td>\n",
       "      <td>0.08902</td>\n",
       "      <td>0.0</td>\n",
       "    </tr>\n",
       "    <tr>\n",
       "      <th>2</th>\n",
       "      <td>19.69</td>\n",
       "      <td>21.25</td>\n",
       "      <td>130.00</td>\n",
       "      <td>1203.0</td>\n",
       "      <td>0.10960</td>\n",
       "      <td>0.15990</td>\n",
       "      <td>0.1974</td>\n",
       "      <td>0.12790</td>\n",
       "      <td>0.2069</td>\n",
       "      <td>0.05999</td>\n",
       "      <td>...</td>\n",
       "      <td>25.53</td>\n",
       "      <td>152.50</td>\n",
       "      <td>1709.0</td>\n",
       "      <td>0.1444</td>\n",
       "      <td>0.4245</td>\n",
       "      <td>0.4504</td>\n",
       "      <td>0.2430</td>\n",
       "      <td>0.3613</td>\n",
       "      <td>0.08758</td>\n",
       "      <td>0.0</td>\n",
       "    </tr>\n",
       "    <tr>\n",
       "      <th>3</th>\n",
       "      <td>11.42</td>\n",
       "      <td>20.38</td>\n",
       "      <td>77.58</td>\n",
       "      <td>386.1</td>\n",
       "      <td>0.14250</td>\n",
       "      <td>0.28390</td>\n",
       "      <td>0.2414</td>\n",
       "      <td>0.10520</td>\n",
       "      <td>0.2597</td>\n",
       "      <td>0.09744</td>\n",
       "      <td>...</td>\n",
       "      <td>26.50</td>\n",
       "      <td>98.87</td>\n",
       "      <td>567.7</td>\n",
       "      <td>0.2098</td>\n",
       "      <td>0.8663</td>\n",
       "      <td>0.6869</td>\n",
       "      <td>0.2575</td>\n",
       "      <td>0.6638</td>\n",
       "      <td>0.17300</td>\n",
       "      <td>0.0</td>\n",
       "    </tr>\n",
       "    <tr>\n",
       "      <th>4</th>\n",
       "      <td>20.29</td>\n",
       "      <td>14.34</td>\n",
       "      <td>135.10</td>\n",
       "      <td>1297.0</td>\n",
       "      <td>0.10030</td>\n",
       "      <td>0.13280</td>\n",
       "      <td>0.1980</td>\n",
       "      <td>0.10430</td>\n",
       "      <td>0.1809</td>\n",
       "      <td>0.05883</td>\n",
       "      <td>...</td>\n",
       "      <td>16.67</td>\n",
       "      <td>152.20</td>\n",
       "      <td>1575.0</td>\n",
       "      <td>0.1374</td>\n",
       "      <td>0.2050</td>\n",
       "      <td>0.4000</td>\n",
       "      <td>0.1625</td>\n",
       "      <td>0.2364</td>\n",
       "      <td>0.07678</td>\n",
       "      <td>0.0</td>\n",
       "    </tr>\n",
       "  </tbody>\n",
       "</table>\n",
       "<p>5 rows × 31 columns</p>\n",
       "</div>"
      ],
      "text/plain": [
       "   mean radius  mean texture  mean perimeter  mean area  mean smoothness  \\\n",
       "0        17.99         10.38          122.80     1001.0          0.11840   \n",
       "1        20.57         17.77          132.90     1326.0          0.08474   \n",
       "2        19.69         21.25          130.00     1203.0          0.10960   \n",
       "3        11.42         20.38           77.58      386.1          0.14250   \n",
       "4        20.29         14.34          135.10     1297.0          0.10030   \n",
       "\n",
       "   mean compactness  mean concavity  mean concave points  mean symmetry  \\\n",
       "0           0.27760          0.3001              0.14710         0.2419   \n",
       "1           0.07864          0.0869              0.07017         0.1812   \n",
       "2           0.15990          0.1974              0.12790         0.2069   \n",
       "3           0.28390          0.2414              0.10520         0.2597   \n",
       "4           0.13280          0.1980              0.10430         0.1809   \n",
       "\n",
       "   mean fractal dimension  ...  worst texture  worst perimeter  worst area  \\\n",
       "0                 0.07871  ...          17.33           184.60      2019.0   \n",
       "1                 0.05667  ...          23.41           158.80      1956.0   \n",
       "2                 0.05999  ...          25.53           152.50      1709.0   \n",
       "3                 0.09744  ...          26.50            98.87       567.7   \n",
       "4                 0.05883  ...          16.67           152.20      1575.0   \n",
       "\n",
       "   worst smoothness  worst compactness  worst concavity  worst concave points  \\\n",
       "0            0.1622             0.6656           0.7119                0.2654   \n",
       "1            0.1238             0.1866           0.2416                0.1860   \n",
       "2            0.1444             0.4245           0.4504                0.2430   \n",
       "3            0.2098             0.8663           0.6869                0.2575   \n",
       "4            0.1374             0.2050           0.4000                0.1625   \n",
       "\n",
       "   worst symmetry  worst fractal dimension  target  \n",
       "0          0.4601                  0.11890     0.0  \n",
       "1          0.2750                  0.08902     0.0  \n",
       "2          0.3613                  0.08758     0.0  \n",
       "3          0.6638                  0.17300     0.0  \n",
       "4          0.2364                  0.07678     0.0  \n",
       "\n",
       "[5 rows x 31 columns]"
      ]
     },
     "execution_count": 7,
     "metadata": {},
     "output_type": "execute_result"
    }
   ],
   "source": [
    "#convert the data to a dataframe for display\n",
    "df = pd.DataFrame(data=np.c_[cancer.data,cancer.target],columns=np.append(cancer.feature_names,'target'))\n",
    "\n",
    "#Note: you can also get these sklearn datasets directly as dataframes\n",
    "#Uncomment the line below to do this\n",
    "#cancer_df = datasets.load_breast_cancer(as_frame=True).frame\n",
    "\n",
    "#display data structure and first five rowsHere each row of the data refers to a single patient, \n",
    "#and the number of rows is the total number of patient in the dataset. \n",
    "df.head()"
   ]
  },
  {
   "cell_type": "markdown",
   "metadata": {},
   "source": [
    "#### Features matrix\n",
    "\n",
    "This table layout makes clear that the information can be thought of as a two-dimensional numerical array or matrix, which we will call the *features matrix*. By convention, this features matrix is often stored in a variable named *X*. The features matrix is assumed to be two-dimensional, with shape *[n_samples, n_features]*, and is most often contained in a NumPy array or a Pandas *DataFrame*.\n",
    "\n",
    "The samples (i.e., rows) always refer to the individual objects described by the dataset. For example, the sample might be a flower, a person, a document, an image, a sound file, a video, an astronomical object, or anything else you can describe with a set of quantitative measurements.\n",
    "\n",
    "The features (i.e., columns) always refer to the distinct observations that describe each sample in a quantitative manner. Features are often real-valued, but may be Boolean or discrete-valued (eg text) in some cases."
   ]
  },
  {
   "cell_type": "markdown",
   "metadata": {},
   "source": [
    "#### Target array\n",
    "\n",
    "In addition to the feature matrix *X*, we also generally work with a **label** or **target** array, which by convention we will usually call *y*. The target array is usually one dimensional, with length *n_samples*, and is generally contained in a NumPy array or Pandas *Series*. The target array may have continuous numerical values, or discrete classes/labels. While some Scikit-Learn estimators do handle multiple target values in the form of a two-dimensional, *[n_samples, n_targets]* target array, we will primarily be working with the common case of a one-dimensional target array.\n",
    "\n",
    "Often one point of confusion is how the target array differs from the other features columns. The distinguishing feature of the target array is that it is usually the quantity we want to *predict from the data* (in statistical terms, it is the dependent variable). For example, in the preceding data we may wish to construct a model that can predict the *diagnosis* on the other measurements, this being considered the target array."
   ]
  },
  {
   "cell_type": "markdown",
   "metadata": {},
   "source": [
    "## 3. Binary classification\n",
    "\n",
    "\n",
    "Binary classification is used to create a model that classifies between only two classes.  These two classes are often called \"positive\" and \"negative\".  The current dataset is labelled as to whether a tumour is cancerous (malignant, 1) or not (benign, 0).  The iris dataset, which we will see in Part 2, is not binary, because there are three classes (3 types of iris)."
   ]
  },
  {
   "cell_type": "markdown",
   "metadata": {},
   "source": [
    "Let's print some of the labels (y), entries 0 to 4, then 399 to 403, in the array."
   ]
  },
  {
   "cell_type": "code",
   "execution_count": 8,
   "metadata": {},
   "outputs": [
    {
     "name": "stdout",
     "output_type": "stream",
     "text": [
      "[0 0 0 0 0]\n",
      "[1 0 1 1 1]\n"
     ]
    }
   ],
   "source": [
    "print(y[0:5])\n",
    "print(y[399:404])"
   ]
  },
  {
   "cell_type": "markdown",
   "metadata": {},
   "source": [
    "## 4. Training and Testing\n",
    "\n",
    "It is very important that we evaluate an AI model based on its ability to predict data that it has never seen before.  Because of this we often divide the training data into a validation and training set.  The AI model will learn from the training data, but ultimately be evaluated based on the testing data.\n",
    "\n",
    "* **Training Data** (In Sample Data) - The data that the machine learning model was fit to/created from. \n",
    "* **Testing Data** (Out of Sample Data) - The data that the machine learning model is evaluated upon after it is fit to the training data.\n",
    "\n",
    "There are two predominant means of dealing with training and testing data:\n",
    "\n",
    "* **Training/Testing Split** - The data are split according to some ratio between a training and testing (hold-out) set.  Common ratios are 80% training and 20% test.\n",
    "* **K-Fold Cross Validation** - The data are split into a number of folds and models.  Because a number of models equal to the folds is created out-of-sample predictions can be generated for the entire dataset.\n",
    "\n",
    "### Validation\n",
    "\n",
    "When tuning parameters of a model it's important not to tune them to the testing set. Sometimes, training data is split into training data and validation data, with the validation used to assess the model, before a final round of testing is performed on a (hold out) testing set.\n",
    "\n",
    "\n",
    "### Training/Testing Split\n",
    "\n",
    "The code below performs a split of the cancer data into a training and testing set.  The training set uses 80% of the data and the testing set uses 20%.\n",
    "\n",
    "The method below both splits the dataset into training and validation set and also randomises the data.  We often want our results to replicable, so supply a **random_state** value so that when run again, the same split is made."
   ]
  },
  {
   "cell_type": "code",
   "execution_count": 9,
   "metadata": {},
   "outputs": [
    {
     "name": "stdout",
     "output_type": "stream",
     "text": [
      "(455, 30)\n",
      "(114, 30)\n",
      "(455,)\n",
      "(114,)\n"
     ]
    }
   ],
   "source": [
    "from sklearn.model_selection import train_test_split\n",
    "\n",
    "X_train, X_test, y_train, y_test = train_test_split(X, y, test_size=0.2, random_state=42)\n",
    "\n",
    "\n",
    "print(X_train.shape)\n",
    "print(X_test.shape)\n",
    "print(y_train.shape)\n",
    "print(y_test.shape)"
   ]
  },
  {
   "cell_type": "markdown",
   "metadata": {},
   "source": [
    "## 5. Scikit-Learn's  API\n",
    "\n",
    "The Scikit-Learn API is designed with the following guiding principles in mind:\n",
    "\n",
    "- *Consistency*: All objects share a common interface drawn from a limited set of methods, with consistent documentation.\n",
    "\n",
    "- *Inspection*: All specified parameter values are exposed as public attributes.\n",
    "\n",
    "- *Limited object hierarchy*: Only algorithms are represented by Python classes; datasets are represented in standard formats (NumPy arrays, Pandas DataFrames, SciPy sparse matrices) and parameter names use standard Python strings.\n",
    "\n",
    "- *Composition*: Many machine learning tasks can be expressed as sequences of more fundamental algorithms, and Scikit-Learn makes use of this wherever possible.\n",
    "\n",
    "- *Sensible defaults*: When models require user-specified parameters, the library defines an appropriate default value.\n",
    "\n",
    "In practice, these principles make Scikit-Learn very easy to use, once the basic principles are understood. Every ML algorithm in Scikit-Learn is implemented via the Estimator API, which provides a consistent interface for a wide range of ML applications."
   ]
  },
  {
   "cell_type": "markdown",
   "metadata": {},
   "source": [
    "### Basics of the API\n",
    "\n",
    "Most commonly, the steps in using the Scikit-Learn estimator API are as follows:\n",
    "\n",
    "1. Choose a class of model by importing the appropriate class from Scikit-Learn.\n",
    "2. Choose model hyperparameters by instantiating this class with desired values.\n",
    "3. Arrange data into a features matrix and target vector following the discussion above.\n",
    "4. Fit the model to your data by calling the **fit()** method of the model instance.\n",
    "5. Apply the Model to new data:\n",
    "\n",
    "- For supervised learning, often we predict labels for unknown data using the **predict()** method.\n",
    "- For unsupervised learning, we often transform or infer properties of the data using the **transform()** or **predict()** method.\n",
    "\n",
    "We will now step through several simple examples of applying supervised learning."
   ]
  },
  {
   "cell_type": "markdown",
   "metadata": {},
   "source": [
    "## 6. Perceptron classifier for the Wisconsin Cancer Dataset\n",
    "\n",
    "The dataset is split so that the testing data gives representative samples, then a perceptron is set up.  This is then used for training and testing, with Accuracy used as a measure.\n",
    "\n",
    "This uses Scikit-learn's perceptron library: https://scikit-learn.org/stable/modules/generated/sklearn.linear_model.Perceptron.html"
   ]
  },
  {
   "cell_type": "markdown",
   "metadata": {},
   "source": [
    "#### Choose model hyperparameters\n",
    "\n",
    "An important point is that a class of model is not the same as an instance of a model.\n",
    "\n",
    "Once we have decided on our model class, there are still some options open to us. Depending on the model class we are working with, we might need to answer one or more questions like the following:\n",
    "\n",
    "- How many iterations should the learning take?\n",
    "- What is the tolerance (this is a stopping criterion; if the improvement is less than tolerance than stop)?\n",
    "- What is the learning rate (this multiplies the updates, dampening changes; default value is 1 for perceptrons)?\n",
    "\n",
    "These are examples of the important choices that must be made *once the model class is selected*. These choices are often represented as hyperparameters, or parameters that must be set before the model is fit to data. In Scikit-Learn, hyperparameters are chosen by passing values at model instantiation."
   ]
  },
  {
   "cell_type": "code",
   "execution_count": 10,
   "metadata": {},
   "outputs": [
    {
     "name": "stdout",
     "output_type": "stream",
     "text": [
      "Accuracy: 0.95\n"
     ]
    }
   ],
   "source": [
    "import os\n",
    "import pandas as pd\n",
    "import numpy as np\n",
    "from sklearn import datasets\n",
    "from sklearn.preprocessing import StandardScaler\n",
    "from sklearn.linear_model import Perceptron\n",
    "from sklearn.model_selection import train_test_split\n",
    "from sklearn.metrics import accuracy_score\n",
    "\n",
    "# Load the iris dataset from scikit-learn\n",
    "cancer = datasets.load_breast_cancer()\n",
    "\n",
    "X = cancer.data\n",
    "y = cancer.target\n",
    "\n",
    "# Split the data\n",
    "X_train, X_test, y_train, y_test = train_test_split(X, y, test_size=0.2, random_state=42)\n",
    "\n",
    "# Create a Perceptron, with its training parameters\n",
    "ppn = Perceptron(max_iter=40,tol=0.001,eta0=1)\n",
    "\n",
    "# Train the model\n",
    "ppn.fit(X_train,y_train)\n",
    "\n",
    "# Make predication\n",
    "y_pred = ppn.predict(X_test)\n",
    "\n",
    "# Evaluate accuracy\n",
    "print('Accuracy: %.2f' % accuracy_score(y_test, y_pred))"
   ]
  },
  {
   "cell_type": "markdown",
   "metadata": {},
   "source": [
    "The trained model is a set of parameters defining a decision surface (a hyperplane) and we can see what these are:"
   ]
  },
  {
   "cell_type": "code",
   "execution_count": 11,
   "metadata": {},
   "outputs": [
    {
     "name": "stdout",
     "output_type": "stream",
     "text": [
      "[[ 2.1086930e+03  2.7926200e+03  1.2131940e+04  4.7810000e+03\n",
      "   1.8489510e+01 -1.2682950e+01 -4.1787898e+01 -1.7829186e+01\n",
      "   3.3232300e+01  1.4949900e+01  3.1450000e+00  1.8615180e+02\n",
      "  -1.0780510e+02 -5.9816550e+03  1.0772850e+00 -2.9053880e+00\n",
      "  -4.8986425e+00 -7.2179400e-01  2.6194660e+00  2.9272780e-01\n",
      "   2.2044370e+03  3.3742200e+03  1.2050560e+04 -6.9003000e+03\n",
      "   2.2733080e+01 -5.1457870e+01 -9.2403936e+01 -2.2060540e+01\n",
      "   4.0465200e+01  1.2853070e+01]]\n"
     ]
    }
   ],
   "source": [
    "print(ppn.coef_)"
   ]
  },
  {
   "cell_type": "code",
   "execution_count": 12,
   "metadata": {},
   "outputs": [
    {
     "data": {
      "text/plain": [
       "{0: 43, 1: 71}"
      ]
     },
     "execution_count": 12,
     "metadata": {},
     "output_type": "execute_result"
    }
   ],
   "source": [
    "#finally, let's count the labels for the target, to reassure ourselves that the result \n",
    "#isn't just a reflection of the balance of the labels\n",
    "unique, counts = np.unique(y_test, return_counts=True)\n",
    "dict(zip(unique, counts))"
   ]
  },
  {
   "cell_type": "markdown",
   "metadata": {},
   "source": [
    "## 7. Confusion Matrix\n",
    "\n",
    "The confusion matrix is a common visualisation for both binary and multiplie class classification problems.  Often a model will have difficulty differentiating between two classes.  For example, a classifier might be really good at telling the difference between cats and dogs, but not so good at telling the difference between dogs and wolves.  The plot_confusion_matrix function in the code below generates a confusion matrix."
   ]
  },
  {
   "cell_type": "markdown",
   "metadata": {},
   "source": [
    "The code below plots a confusion matrix for the perceptron above.  (In fact, two: one with raw number, one normalised as proportions.  Both can be useful.)"
   ]
  },
  {
   "cell_type": "code",
   "execution_count": 13,
   "metadata": {},
   "outputs": [
    {
     "name": "stdout",
     "output_type": "stream",
     "text": [
      "Confusion matrix, without normalization\n",
      "[[41  2]\n",
      " [ 4 67]]\n",
      "Normalized confusion matrix\n",
      "[[0.95 0.05]\n",
      " [0.06 0.94]]\n"
     ]
    },
    {
     "data": {
      "image/png": "[encoded data removed]",
      "text/plain": [
       "<Figure size 432x288 with 2 Axes>"
      ]
     },
     "metadata": {
      "needs_background": "light"
     },
     "output_type": "display_data"
    },
    {
     "data": {
      "image/png": "[encoded data removed]",
      "text/plain": [
       "<Figure size 432x288 with 2 Axes>"
      ]
     },
     "metadata": {
      "needs_background": "light"
     },
     "output_type": "display_data"
    }
   ],
   "source": [
    "import matplotlib.pyplot as plt\n",
    "from sklearn.metrics import confusion_matrix\n",
    "\n",
    "diagnosis = cancer.target_names\n",
    "\n",
    "#python function, defined here to plot confusion matrices\n",
    "def plot_confusion_matrix(cm, names, title='Confusion matrix', cmap=plt.cm.Blues):\n",
    "    plt.imshow(cm, interpolation='nearest', cmap=cmap)\n",
    "    plt.title(title)\n",
    "    plt.colorbar(fraction=0.05)\n",
    "    tick_marks = np.arange(len(names))\n",
    "    plt.xticks(tick_marks, names, rotation=45)\n",
    "    plt.yticks(tick_marks, names)\n",
    "    plt.tight_layout()\n",
    "    plt.ylabel('True label')\n",
    "    plt.xlabel('Predicted label')\n",
    "    \n",
    "cm = confusion_matrix(y_test, y_pred)\n",
    "np.set_printoptions(precision=2)\n",
    "print('Confusion matrix, without normalization')\n",
    "print(cm)\n",
    "plt.figure()\n",
    "plot_confusion_matrix(cm, diagnosis, title='')\n",
    "\n",
    "#graphical plots of confusion matrix using method above\n",
    "cm_normalized = cm.astype('float') / cm.sum(axis=1)[:, np.newaxis]\n",
    "print('Normalized confusion matrix')\n",
    "print(cm_normalized)\n",
    "plt.figure()\n",
    "plot_confusion_matrix(cm_normalized, diagnosis, title='Normalized confusion matrix')\n",
    "plt.show()"
   ]
  },
  {
   "cell_type": "markdown",
   "metadata": {},
   "source": [
    "#### Standard scaler\n",
    "\n",
    "Data is often scaled before learning, and StandardScaler is one class that does this. This transforms data so that has a normal distribution with a mean of 0 and a standard deviation of 1. This means that all features are distributed across the same distribution, hence the learning algorithm isn't biased by the magnitude of values.\n",
    "\n",
    "https://scikit-learn.org/stable/modules/generated/sklearn.preprocessing.StandardScaler.html"
   ]
  },
  {
   "cell_type": "markdown",
   "metadata": {},
   "source": [
    "#### Confusion Matrices with scikit-learn\n",
    "\n",
    "Scikit-learn has recently added a Confusion Matrix Display, giving you another similar way of producing confusion matrices.\n",
    "\n",
    "https://scikit-learn.org/stable/modules/generated/sklearn.metrics.ConfusionMatrixDisplay.html\n",
    "\n",
    "Below, the above is repeated using a standard scaling on the data and the scikit-learn confusion matrix."
   ]
  },
  {
   "cell_type": "code",
   "execution_count": 14,
   "metadata": {},
   "outputs": [
    {
     "name": "stdout",
     "output_type": "stream",
     "text": [
      "[9.03e+00 1.73e+01 5.88e+01 2.50e+02 1.07e-01 1.41e-01 3.13e-01 4.37e-02\n",
      " 2.11e-01 8.05e-02 3.27e-01 1.19e+00 1.89e+00 1.77e+01 9.55e-03 8.61e-02\n",
      " 3.04e-01 3.32e-02 4.20e-02 9.56e-03 1.03e+01 2.26e+01 6.55e+01 3.25e+02\n",
      " 1.48e-01 4.36e-01 1.25e+00 1.75e-01 4.23e-01 1.17e-01]\n",
      "[-1.44 -0.44 -1.36 -1.14  0.78  0.72  2.82 -0.12  1.09  2.46 -0.26 -0.02\n",
      " -0.47 -0.47  0.84  3.25  8.44  3.39  2.62  2.06 -1.23 -0.48 -1.25 -0.97\n",
      "  0.72  1.19  4.67  0.93  2.1   1.89]\n",
      "Accuracy: 0.97\n"
     ]
    },
    {
     "data": {
      "image/png": "[encoded data removed]",
      "text/plain": [
       "<Figure size 432x288 with 2 Axes>"
      ]
     },
     "metadata": {
      "needs_background": "light"
     },
     "output_type": "display_data"
    }
   ],
   "source": [
    "from sklearn.metrics import ConfusionMatrixDisplay\n",
    "\n",
    "sc = StandardScaler()\n",
    "\n",
    "sc.fit(X_train)\n",
    "X_train_std = sc.transform(X_train)\n",
    "X_test_std = sc.transform(X_test)\n",
    "\n",
    "print(X_train[0])\n",
    "print(X_train_std[0])\n",
    "\n",
    "ppn = Perceptron(max_iter=40,tol=0.001,eta0=1)\n",
    "\n",
    "# Train the model\n",
    "ppn.fit(X_train_std,y_train)\n",
    "\n",
    "# Make predication\n",
    "y_pred = ppn.predict(X_test_std)\n",
    "\n",
    "cm = confusion_matrix(y_test, y_pred)\n",
    "\n",
    "# Evaluate accuracy\n",
    "print('Accuracy: %.2f' % accuracy_score(y_test, y_pred))\n",
    "\n",
    "disp = ConfusionMatrixDisplay(confusion_matrix=cm, display_labels=ppn.classes_)\n",
    "disp.plot()\n",
    "plt.show()"
   ]
  },
  {
   "cell_type": "code",
   "execution_count": null,
   "metadata": {},
   "outputs": [],
   "source": []
  }
 ],
 "metadata": {
  "kernelspec": {
   "display_name": "Python 3 (ipykernel)",
   "language": "python",
   "name": "python3"
  },
  "language_info": {
   "codemirror_mode": {
    "name": "ipython",
    "version": 3
   },
   "file_extension": ".py",
   "mimetype": "text/x-python",
   "name": "python",
   "nbconvert_exporter": "python",
   "pygments_lexer": "ipython3",
   "version": "3.9.12"
  }
 },
 "nbformat": 4,
 "nbformat_minor": 2
}
